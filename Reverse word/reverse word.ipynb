{
 "cells": [
  {
   "cell_type": "code",
   "execution_count": 10,
   "id": "f2a7c3ac",
   "metadata": {},
   "outputs": [],
   "source": [
    "def reverseWords(s):\n",
    "    str_list = s.split(' ')\n",
    "    print(str_list)\n",
    "    reversed_string = ' '.join([x for x in reversed(str_list) if x !=''])\n",
    "    return reversed_string"
   ]
  },
  {
   "cell_type": "code",
   "execution_count": 11,
   "id": "4739c6d1",
   "metadata": {},
   "outputs": [
    {
     "name": "stdout",
     "output_type": "stream",
     "text": [
      "['', '', 'hello', 'world', '', '']\n"
     ]
    },
    {
     "data": {
      "text/plain": [
       "'world hello'"
      ]
     },
     "execution_count": 11,
     "metadata": {},
     "output_type": "execute_result"
    }
   ],
   "source": [
    "reverseWords(\"  hello world  \")"
   ]
  },
  {
   "cell_type": "code",
   "execution_count": null,
   "id": "72030506",
   "metadata": {},
   "outputs": [],
   "source": []
  }
 ],
 "metadata": {
  "kernelspec": {
   "display_name": "Python 3",
   "language": "python",
   "name": "python3"
  },
  "language_info": {
   "codemirror_mode": {
    "name": "ipython",
    "version": 3
   },
   "file_extension": ".py",
   "mimetype": "text/x-python",
   "name": "python",
   "nbconvert_exporter": "python",
   "pygments_lexer": "ipython3",
   "version": "3.12.1"
  }
 },
 "nbformat": 4,
 "nbformat_minor": 5
}
