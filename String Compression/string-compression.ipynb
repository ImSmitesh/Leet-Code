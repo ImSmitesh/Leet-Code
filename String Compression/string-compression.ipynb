{
 "cells": [
  {
   "cell_type": "code",
   "execution_count": 10,
   "id": "b044cf6a",
   "metadata": {},
   "outputs": [],
   "source": [
    "def compress(chars):\n",
    "        write = 0\n",
    "        read = 0\n",
    "\n",
    "        while read < len(chars):\n",
    "            char = chars[read]\n",
    "            count = 0\n",
    "\n",
    "            while read < len(chars) and chars[read] == char:\n",
    "                read += 1\n",
    "                count += 1\n",
    "\n",
    "            chars[write] = char\n",
    "            write += 1\n",
    "\n",
    "            if count > 1:\n",
    "                for digit in str(count):\n",
    "                    chars[write] = digit\n",
    "                    write += 1\n",
    "\n",
    "        return write"
   ]
  },
  {
   "cell_type": "code",
   "execution_count": 11,
   "id": "62a1aca6",
   "metadata": {},
   "outputs": [
    {
     "data": {
      "text/plain": [
       "6"
      ]
     },
     "execution_count": 11,
     "metadata": {},
     "output_type": "execute_result"
    }
   ],
   "source": [
    "compress([\"a\",\"a\",\"b\",\"b\",\"c\",\"c\",\"c\"])"
   ]
  }
 ],
 "metadata": {
  "kernelspec": {
   "display_name": "Python 3",
   "language": "python",
   "name": "python3"
  },
  "language_info": {
   "codemirror_mode": {
    "name": "ipython",
    "version": 3
   },
   "file_extension": ".py",
   "mimetype": "text/x-python",
   "name": "python",
   "nbconvert_exporter": "python",
   "pygments_lexer": "ipython3",
   "version": "3.12.1"
  }
 },
 "nbformat": 4,
 "nbformat_minor": 5
}
